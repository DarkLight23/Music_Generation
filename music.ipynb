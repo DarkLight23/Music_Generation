{
  "nbformat": 4,
  "nbformat_minor": 0,
  "metadata": {
    "colab": {
      "name": "music.ipynb",
      "provenance": [],
      "collapsed_sections": [
        "rcXpz7OFW4hC"
      ],
      "toc_visible": true,
      "include_colab_link": true
    },
    "kernelspec": {
      "name": "python3",
      "display_name": "Python 3"
    },
    "accelerator": "GPU"
  },
  "cells": [
    {
      "cell_type": "markdown",
      "metadata": {
        "id": "view-in-github",
        "colab_type": "text"
      },
      "source": [
        "<a href=\"https://colab.research.google.com/github/DarkLight23/Music_Generation/blob/main/music.ipynb\" target=\"_parent\"><img src=\"https://colab.research.google.com/assets/colab-badge.svg\" alt=\"Open In Colab\"/></a>"
      ]
    },
    {
      "cell_type": "markdown",
      "metadata": {
        "id": "d-VBXUWxXoDq"
      },
      "source": [
        "# Music_genre Classification"
      ]
    },
    {
      "cell_type": "code",
      "metadata": {
        "id": "AYr720w3Uyyw"
      },
      "source": [
        "import os\n",
        "import warnings\n",
        "warnings.filterwarnings('ignore')\n",
        "import pandas as pd\n",
        "from pandas.plotting import scatter_matrix\n",
        "import numpy as np\n",
        "from numpy import argmax\n",
        "import matplotlib.pyplot as plt\n",
        "%matplotlib inline\n",
        "from mpl_toolkits.mplot3d import Axes3D\n",
        "from PIL import Image\n",
        "import pathlib\n",
        "import librosa\n",
        "import librosa.display\n",
        "import IPython.display\n",
        "import csv\n",
        "from sklearn.preprocessing import LabelEncoder, StandardScaler\n",
        "\n",
        "import keras\n",
        "from keras import layers\n",
        "from keras.layers import Activation, Dense, Dropout, Conv2D, Flatten, MaxPooling2D, GlobalMaxPooling2D, GlobalAveragePooling1D, AveragePooling2D, Input, Add\n",
        "from keras.models import Sequential\n",
        "from keras.optimizers import SGD\n",
        "\n",
        "import tensorflow as tf"
      ],
      "execution_count": null,
      "outputs": []
    },
    {
      "cell_type": "markdown",
      "metadata": {
        "id": "6VnuqMeaXgSZ"
      },
      "source": [
        "## Collection of DATA"
      ]
    },
    {
      "cell_type": "code",
      "metadata": {
        "id": "Bn6FF0lzU3Mb",
        "colab": {
          "base_uri": "https://localhost:8080/",
          "height": 34
        },
        "outputId": "24f4a682-989b-460e-f076-84cd404cde19"
      },
      "source": [
        "from google.colab import drive\n",
        "drive.mount('/content/drive')"
      ],
      "execution_count": null,
      "outputs": [
        {
          "output_type": "stream",
          "text": [
            "Drive already mounted at /content/drive; to attempt to forcibly remount, call drive.mount(\"/content/drive\", force_remount=True).\n"
          ],
          "name": "stdout"
        }
      ]
    },
    {
      "cell_type": "code",
      "metadata": {
        "id": "OVYeLPWoU9No"
      },
      "source": [
        "for folder in os.listdir(f'/content/drive/My Drive/Music/genres/'):\n",
        "    print(folder)\n",
        "    pathlib.Path(f'Spec_img/{folder}').mkdir(parents=True, exist_ok=True)\n",
        "    for filename in os.listdir(f'/content/drive/My Drive/Music/genres/{folder}'):\n",
        "        print(filename)\n",
        "        songname = f'/content/drive/My Drive/Music/genres/{folder}/{filename}'\n",
        "        y, sr = librosa.load(songname, mono=True, duration=5)\n",
        "        print(y.shape)\n",
        "        print(sr)\n",
        "        plt.specgram(y, NFFT=2048, Fs=2, Fc=0, noverlap=128, sides='default', mode='default', scale='dB');\n",
        "        plt.axis('off');\n",
        "        plt.savefig(f'Spec_img/{folder}/{filename[:-3].replace(\".\", \"_\")}.png')\n",
        "        plt.clf()    "
      ],
      "execution_count": null,
      "outputs": []
    },
    {
      "cell_type": "markdown",
      "metadata": {
        "id": "TAlGjSbDXHuo"
      },
      "source": [
        "## Generating Mel-Spectrogram "
      ]
    },
    {
      "cell_type": "code",
      "metadata": {
        "id": "B5bJSBnvZFyq"
      },
      "source": [
        "header = \"music_genres chroma_stft rmse spectral_centroid spectral_bandwidth rolloff zero_crossing_rate\"\n",
        "for i in range(1, 21):\n",
        "    header += f' mfcc{i}'\n",
        "header += ' label'\n",
        "header = header.split()"
      ],
      "execution_count": null,
      "outputs": []
    },
    {
      "cell_type": "code",
      "metadata": {
        "id": "iabZVp7FZQH3"
      },
      "source": [
        "'''Creating CSV file of each song WIth RMSE,Chroma Stft,Spectral centroid,\n",
        "Spectral Bandwidth,Zero Cross Rate,MFCC'''\n",
        "spectral_data = open('Spec_data.csv', 'w', newline='')\n",
        "with spectral_data:\n",
        "    writer = csv.writer(spectral_data)\n",
        "    writer.writerow(header)\n",
        "genres = 'blues classical country disco hiphop jazz metal pop reggae rock'.split()\n",
        "for g in genres:\n",
        "    for filename in os.listdir(f'/content/drive/My Drive/Music/genres/{g}'):\n",
        "        songname = f'/content/drive/My Drive/Music/genres/{g}/{filename}'\n",
        "        y, sr = librosa.load(songname, mono=True, duration=30)\n",
        "        rmse = librosa.feature.rmse(y=y)\n",
        "        chroma_stft = librosa.feature.chroma_stft(y=y, sr=sr)\n",
        "        spec_cent = librosa.feature.spectral_centroid(y=y, sr=sr)\n",
        "        spec_bw = librosa.feature.spectral_bandwidth(y=y, sr=sr)\n",
        "        rolloff = librosa.feature.spectral_rolloff(y=y, sr=sr)\n",
        "        zcr = librosa.feature.zero_crossing_rate(y)\n",
        "        mfcc = librosa.feature.mfcc(y=y, sr=sr)\n",
        "        to_append = f'{filename} {np.mean(chroma_stft)} {np.mean(rmse)} {np.mean(spec_cent)} {np.mean(spec_bw)} {np.mean(rolloff)} {np.mean(zcr)}'    \n",
        "        for e in mfcc:\n",
        "            to_append += f' {np.mean(e)}'\n",
        "        to_append += f' {g}'\n",
        "        spectral_data = open('Spec_data.csv', 'a', newline='')\n",
        "        # with file:\n",
        "        writer = csv.writer(spectral_data)\n",
        "        writer.writerow(to_append.split())\n"
      ],
      "execution_count": null,
      "outputs": []
    },
    {
      "cell_type": "markdown",
      "metadata": {
        "id": "4z2OqWpHWoRL"
      },
      "source": [
        "## Spliting DATA into Train and Test"
      ]
    },
    {
      "cell_type": "code",
      "metadata": {
        "id": "8qqfHeW9IRlx"
      },
      "source": [
        "!pip install split-folders tqdm\n",
        "\n",
        "import splitfolders\n",
        "# # To only split into training and validation set, set a tuple to `ratio`, i.e, `(.8, .2)`.\n",
        "splitfolders.ratio('/content/Spec_img', output=\"/content/Gtv\", seed=1337, ratio=(.80, .20)) # default values\n",
        "\n"
      ],
      "execution_count": null,
      "outputs": []
    },
    {
      "cell_type": "markdown",
      "metadata": {
        "id": "rcXpz7OFW4hC"
      },
      "source": [
        "# image augmentation"
      ]
    },
    {
      "cell_type": "code",
      "metadata": {
        "id": "GZO2kjghuRqk"
      },
      "source": [
        "from keras.preprocessing.image import ImageDataGenerator\n",
        "train_datagen = ImageDataGenerator(\n",
        "        rescale = 1./255, # rescale all pixel values from 0-255, so aftre this step all our pixel values are in range (0,1)\n",
        "        shear_range = 0.2, #to apply some random tranfromations\n",
        "        zoom_range = 0.2, #to apply zoom\n",
        "        horizontal_flip = True) # image will be flipper horiz\n",
        "test_datagen = ImageDataGenerator(rescale=1./255)"
      ],
      "execution_count": null,
      "outputs": []
    },
    {
      "cell_type": "code",
      "metadata": {
        "id": "NlB3fehbxFkX",
        "colab": {
          "base_uri": "https://localhost:8080/",
          "height": 52
        },
        "outputId": "aed5e7e2-4784-4fef-afb5-6fab8d0e540f"
      },
      "source": [
        "# # ImageDataGenerator accepts the original data, randomly transforms it, and returns only the new, transformed data.\n",
        "training_set = train_datagen.flow_from_directory(\n",
        "        '/content/Gtv/train',\n",
        "        target_size = (64,64),\n",
        "        batch_size = 32,\n",
        "        class_mode='categorical',\n",
        "        shuffle = False)\n",
        "test_set = test_datagen.flow_from_directory(\n",
        "        '/content/Gtv/val',\n",
        "        target_size = (64,64,\n",
        "        batch_size = 32,\n",
        "        class_mode='categorical',\n",
        "        shuffle = False )\n",
        "\n"
      ],
      "execution_count": null,
      "outputs": [
        {
          "output_type": "stream",
          "text": [
            "Found 800 images belonging to 11 classes.\n",
            "Found 200 images belonging to 11 classes.\n"
          ],
          "name": "stdout"
        }
      ]
    },
    {
      "cell_type": "markdown",
      "metadata": {
        "id": "0WfqXTamWMp6"
      },
      "source": [
        "## Model used"
      ]
    },
    {
      "cell_type": "code",
      "metadata": {
        "id": "B1FYeU9zqbYg"
      },
      "source": [
        "from tensorflow.keras.applications import Xception"
      ],
      "execution_count": null,
      "outputs": []
    },
    {
      "cell_type": "code",
      "metadata": {
        "id": "4hhkoXPYqdSJ",
        "colab": {
          "base_uri": "https://localhost:8080/",
          "height": 443
        },
        "outputId": "dcfd907f-02be-4130-e921-b9cd10b0a06c"
      },
      "source": [
        "base_model=Xception(include_top=False,input_shape=(300,300,3))\n",
        "\n",
        "\n",
        "\n",
        "# Create new model on top\n",
        "inputs = tf.keras.Input(shape=(300,300,3))\n",
        "\n",
        "x = base_model(inputs, training=False)\n",
        "x = tf.keras.layers.GlobalAveragePooling2D()(x)\n",
        "x = tf.keras.layers.Dropout(0.2)(x)  # 1st improove Regularize with dropout\n",
        "x = tf.keras.layers.Dense(512,activation='relu')(x)\n",
        "x = tf.keras.layers.Dropout(0.2)(x) # 2st improove Regularize with dropout\n",
        "x = tf.keras.layers.Dense(64,activation='relu')(x)\n",
        "outputs = tf.keras.layers.Dense(11,activation='softmax')(x)\n",
        "\n",
        "model = tf.keras.Model(inputs, outputs)\n",
        "model.summary()"
      ],
      "execution_count": null,
      "outputs": [
        {
          "output_type": "stream",
          "text": [
            "Model: \"functional_1\"\n",
            "_________________________________________________________________\n",
            "Layer (type)                 Output Shape              Param #   \n",
            "=================================================================\n",
            "input_3 (InputLayer)         [(None, 300, 300, 3)]     0         \n",
            "_________________________________________________________________\n",
            "xception (Functional)        (None, 10, 10, 2048)      20861480  \n",
            "_________________________________________________________________\n",
            "global_average_pooling2d (Gl (None, 2048)              0         \n",
            "_________________________________________________________________\n",
            "dropout (Dropout)            (None, 2048)              0         \n",
            "_________________________________________________________________\n",
            "dense (Dense)                (None, 512)               1049088   \n",
            "_________________________________________________________________\n",
            "dropout_1 (Dropout)          (None, 512)               0         \n",
            "_________________________________________________________________\n",
            "dense_1 (Dense)              (None, 64)                32832     \n",
            "_________________________________________________________________\n",
            "dense_2 (Dense)              (None, 11)                715       \n",
            "=================================================================\n",
            "Total params: 21,944,115\n",
            "Trainable params: 21,889,587\n",
            "Non-trainable params: 54,528\n",
            "_________________________________________________________________\n"
          ],
          "name": "stdout"
        }
      ]
    },
    {
      "cell_type": "markdown",
      "metadata": {
        "id": "Sdw-uIRaVJB_"
      },
      "source": [
        "## Model Traing and Testing (Using Optimizer = \"SGD\",\"ADAM\")"
      ]
    },
    {
      "cell_type": "code",
      "metadata": {
        "id": "Y-4t2i9Kqg-g",
        "colab": {
          "base_uri": "https://localhost:8080/",
          "height": 1000
        },
        "outputId": "8b09563b-7d92-4513-c9f0-08694a408959"
      },
      "source": [
        "model.compile(loss='categorical_crossentropy',optimizer='sgd',metrics=['acc'])\n",
        "warmup = model.fit(training_set, validation_data=test_set,epochs=100)"
      ],
      "execution_count": null,
      "outputs": [
        {
          "output_type": "stream",
          "text": [
            "Epoch 1/100\n",
            " 2/25 [=>............................] - ETA: 14s - loss: 2.6188 - acc: 0.0000e+00WARNING:tensorflow:Callbacks method `on_train_batch_end` is slow compared to the batch time (batch time: 0.3118s vs `on_train_batch_end` time: 0.9227s). Check your callbacks.\n",
            "25/25 [==============================] - 34s 1s/step - loss: 2.4666 - acc: 0.0575 - val_loss: 2.3824 - val_acc: 0.1000\n",
            "Epoch 2/100\n",
            "25/25 [==============================] - 32s 1s/step - loss: 2.3976 - acc: 0.0875 - val_loss: 2.3722 - val_acc: 0.1400\n",
            "Epoch 3/100\n",
            "25/25 [==============================] - 32s 1s/step - loss: 2.3908 - acc: 0.0975 - val_loss: 2.3522 - val_acc: 0.1500\n",
            "Epoch 4/100\n",
            "25/25 [==============================] - 33s 1s/step - loss: 2.3857 - acc: 0.0600 - val_loss: 2.3247 - val_acc: 0.1700\n",
            "Epoch 5/100\n",
            "25/25 [==============================] - 32s 1s/step - loss: 2.3663 - acc: 0.0825 - val_loss: 2.3135 - val_acc: 0.1050\n",
            "Epoch 6/100\n",
            "25/25 [==============================] - 32s 1s/step - loss: 2.3601 - acc: 0.0962 - val_loss: 2.2864 - val_acc: 0.2450\n",
            "Epoch 7/100\n",
            "25/25 [==============================] - 33s 1s/step - loss: 2.3437 - acc: 0.1325 - val_loss: 2.2686 - val_acc: 0.2150\n",
            "Epoch 8/100\n",
            "25/25 [==============================] - 33s 1s/step - loss: 2.3152 - acc: 0.1688 - val_loss: 2.2059 - val_acc: 0.1950\n",
            "Epoch 9/100\n",
            "25/25 [==============================] - 32s 1s/step - loss: 2.3009 - acc: 0.2062 - val_loss: 2.1605 - val_acc: 0.2300\n",
            "Epoch 10/100\n",
            "25/25 [==============================] - 32s 1s/step - loss: 2.2934 - acc: 0.1625 - val_loss: 2.2998 - val_acc: 0.2000\n",
            "Epoch 11/100\n",
            "25/25 [==============================] - 32s 1s/step - loss: 2.3422 - acc: 0.1125 - val_loss: 2.1283 - val_acc: 0.2400\n",
            "Epoch 12/100\n",
            "25/25 [==============================] - 33s 1s/step - loss: 2.2546 - acc: 0.2175 - val_loss: 2.1241 - val_acc: 0.2850\n",
            "Epoch 13/100\n",
            "25/25 [==============================] - 33s 1s/step - loss: 2.1562 - acc: 0.2138 - val_loss: 1.9866 - val_acc: 0.2700\n",
            "Epoch 14/100\n",
            "25/25 [==============================] - 32s 1s/step - loss: 2.1591 - acc: 0.2288 - val_loss: 1.9167 - val_acc: 0.3200\n",
            "Epoch 15/100\n",
            "25/25 [==============================] - 33s 1s/step - loss: 2.0650 - acc: 0.2575 - val_loss: 1.9144 - val_acc: 0.2900\n",
            "Epoch 16/100\n",
            "25/25 [==============================] - 32s 1s/step - loss: 2.1475 - acc: 0.1937 - val_loss: 2.0560 - val_acc: 0.2400\n",
            "Epoch 17/100\n",
            "25/25 [==============================] - 32s 1s/step - loss: 2.0167 - acc: 0.2188 - val_loss: 1.7919 - val_acc: 0.3050\n",
            "Epoch 18/100\n",
            "25/25 [==============================] - 32s 1s/step - loss: 2.0476 - acc: 0.2738 - val_loss: 1.7710 - val_acc: 0.3600\n",
            "Epoch 19/100\n",
            "25/25 [==============================] - 32s 1s/step - loss: 1.9675 - acc: 0.2812 - val_loss: 1.7260 - val_acc: 0.3750\n",
            "Epoch 20/100\n",
            "25/25 [==============================] - 33s 1s/step - loss: 1.9403 - acc: 0.2275 - val_loss: 1.6990 - val_acc: 0.3550\n",
            "Epoch 21/100\n",
            "25/25 [==============================] - 32s 1s/step - loss: 1.8462 - acc: 0.3413 - val_loss: 1.8315 - val_acc: 0.3100\n",
            "Epoch 22/100\n",
            "25/25 [==============================] - 32s 1s/step - loss: 1.9042 - acc: 0.2738 - val_loss: 1.7838 - val_acc: 0.3750\n",
            "Epoch 23/100\n",
            "25/25 [==============================] - 33s 1s/step - loss: 1.8274 - acc: 0.3200 - val_loss: 1.6864 - val_acc: 0.4400\n",
            "Epoch 24/100\n",
            "25/25 [==============================] - 33s 1s/step - loss: 1.8307 - acc: 0.2975 - val_loss: 1.8325 - val_acc: 0.3450\n",
            "Epoch 25/100\n",
            "25/25 [==============================] - 32s 1s/step - loss: 1.8232 - acc: 0.3325 - val_loss: 1.6626 - val_acc: 0.4200\n",
            "Epoch 26/100\n",
            "25/25 [==============================] - 32s 1s/step - loss: 1.8141 - acc: 0.3038 - val_loss: 1.6133 - val_acc: 0.4050\n",
            "Epoch 27/100\n",
            "25/25 [==============================] - 32s 1s/step - loss: 1.7596 - acc: 0.3150 - val_loss: 1.6653 - val_acc: 0.3750\n",
            "Epoch 28/100\n",
            "25/25 [==============================] - 32s 1s/step - loss: 1.7264 - acc: 0.3663 - val_loss: 1.7028 - val_acc: 0.3600\n",
            "Epoch 29/100\n",
            "25/25 [==============================] - 33s 1s/step - loss: 1.7336 - acc: 0.3375 - val_loss: 1.7123 - val_acc: 0.3950\n",
            "Epoch 30/100\n",
            "25/25 [==============================] - 33s 1s/step - loss: 1.7385 - acc: 0.3500 - val_loss: 1.5908 - val_acc: 0.4300\n",
            "Epoch 31/100\n",
            "25/25 [==============================] - 33s 1s/step - loss: 1.6289 - acc: 0.3925 - val_loss: 1.6416 - val_acc: 0.3250\n",
            "Epoch 32/100\n",
            "25/25 [==============================] - 32s 1s/step - loss: 1.6742 - acc: 0.3600 - val_loss: 1.8631 - val_acc: 0.3200\n",
            "Epoch 33/100\n",
            "25/25 [==============================] - 33s 1s/step - loss: 1.6635 - acc: 0.3750 - val_loss: 1.6313 - val_acc: 0.3900\n",
            "Epoch 34/100\n",
            "25/25 [==============================] - 33s 1s/step - loss: 1.6920 - acc: 0.3700 - val_loss: 1.4920 - val_acc: 0.4500\n",
            "Epoch 35/100\n",
            "25/25 [==============================] - 32s 1s/step - loss: 1.7003 - acc: 0.3325 - val_loss: 1.5759 - val_acc: 0.4150\n",
            "Epoch 36/100\n",
            "25/25 [==============================] - 32s 1s/step - loss: 1.6104 - acc: 0.3850 - val_loss: 1.5846 - val_acc: 0.3600\n",
            "Epoch 37/100\n",
            "25/25 [==============================] - 32s 1s/step - loss: 1.5912 - acc: 0.4100 - val_loss: 1.5622 - val_acc: 0.3950\n",
            "Epoch 38/100\n",
            "25/25 [==============================] - 32s 1s/step - loss: 1.6479 - acc: 0.3688 - val_loss: 1.6529 - val_acc: 0.4100\n",
            "Epoch 39/100\n",
            "25/25 [==============================] - 32s 1s/step - loss: 1.5494 - acc: 0.4325 - val_loss: 1.5736 - val_acc: 0.3800\n",
            "Epoch 40/100\n",
            "25/25 [==============================] - 32s 1s/step - loss: 1.6362 - acc: 0.3963 - val_loss: 1.5184 - val_acc: 0.4300\n",
            "Epoch 41/100\n",
            "25/25 [==============================] - 32s 1s/step - loss: 1.4724 - acc: 0.4437 - val_loss: 1.8297 - val_acc: 0.3750\n",
            "Epoch 42/100\n",
            "25/25 [==============================] - 33s 1s/step - loss: 1.5309 - acc: 0.3925 - val_loss: 1.5482 - val_acc: 0.4300\n",
            "Epoch 43/100\n",
            "25/25 [==============================] - 32s 1s/step - loss: 1.4665 - acc: 0.4425 - val_loss: 1.6874 - val_acc: 0.3100\n",
            "Epoch 44/100\n",
            "25/25 [==============================] - 32s 1s/step - loss: 1.4991 - acc: 0.4288 - val_loss: 1.5264 - val_acc: 0.3700\n",
            "Epoch 45/100\n",
            "25/25 [==============================] - 32s 1s/step - loss: 1.3498 - acc: 0.5088 - val_loss: 1.8234 - val_acc: 0.3050\n",
            "Epoch 46/100\n",
            "25/25 [==============================] - 33s 1s/step - loss: 1.6511 - acc: 0.3625 - val_loss: 1.4709 - val_acc: 0.4400\n",
            "Epoch 47/100\n",
            "25/25 [==============================] - 33s 1s/step - loss: 1.4881 - acc: 0.4550 - val_loss: 1.4193 - val_acc: 0.4450\n",
            "Epoch 48/100\n",
            "25/25 [==============================] - 33s 1s/step - loss: 1.5533 - acc: 0.4275 - val_loss: 1.4388 - val_acc: 0.4750\n",
            "Epoch 49/100\n",
            "25/25 [==============================] - 32s 1s/step - loss: 1.3565 - acc: 0.4975 - val_loss: 1.4420 - val_acc: 0.4100\n",
            "Epoch 50/100\n",
            "25/25 [==============================] - 32s 1s/step - loss: 1.4409 - acc: 0.4225 - val_loss: 1.3405 - val_acc: 0.4650\n",
            "Epoch 51/100\n",
            "25/25 [==============================] - 32s 1s/step - loss: 1.3632 - acc: 0.4787 - val_loss: 1.3753 - val_acc: 0.4800\n",
            "Epoch 52/100\n",
            "25/25 [==============================] - 32s 1s/step - loss: 1.3323 - acc: 0.5188 - val_loss: 1.3600 - val_acc: 0.4650\n",
            "Epoch 53/100\n",
            "25/25 [==============================] - 32s 1s/step - loss: 1.4059 - acc: 0.4712 - val_loss: 1.3192 - val_acc: 0.4900\n",
            "Epoch 54/100\n",
            "25/25 [==============================] - 32s 1s/step - loss: 1.4132 - acc: 0.4525 - val_loss: 1.3604 - val_acc: 0.4650\n",
            "Epoch 55/100\n",
            "25/25 [==============================] - 33s 1s/step - loss: 1.3015 - acc: 0.5038 - val_loss: 1.3836 - val_acc: 0.4950\n",
            "Epoch 56/100\n",
            "25/25 [==============================] - 33s 1s/step - loss: 1.3021 - acc: 0.4900 - val_loss: 1.3137 - val_acc: 0.5150\n",
            "Epoch 57/100\n",
            "25/25 [==============================] - 33s 1s/step - loss: 1.2946 - acc: 0.5238 - val_loss: 1.2560 - val_acc: 0.5400\n",
            "Epoch 58/100\n",
            "25/25 [==============================] - 32s 1s/step - loss: 1.5145 - acc: 0.3900 - val_loss: 1.6753 - val_acc: 0.4150\n",
            "Epoch 59/100\n",
            "25/25 [==============================] - 32s 1s/step - loss: 1.5630 - acc: 0.4350 - val_loss: 1.4815 - val_acc: 0.4500\n",
            "Epoch 60/100\n",
            "25/25 [==============================] - 32s 1s/step - loss: 1.3804 - acc: 0.4737 - val_loss: 1.2436 - val_acc: 0.5500\n",
            "Epoch 61/100\n",
            "25/25 [==============================] - 33s 1s/step - loss: 1.2501 - acc: 0.5825 - val_loss: 1.3010 - val_acc: 0.4900\n",
            "Epoch 62/100\n",
            "25/25 [==============================] - 32s 1s/step - loss: 1.3176 - acc: 0.5225 - val_loss: 1.2051 - val_acc: 0.5600\n",
            "Epoch 63/100\n",
            "25/25 [==============================] - 32s 1s/step - loss: 1.1843 - acc: 0.5550 - val_loss: 1.3299 - val_acc: 0.4700\n",
            "Epoch 64/100\n",
            "25/25 [==============================] - 33s 1s/step - loss: 1.1893 - acc: 0.5412 - val_loss: 1.3529 - val_acc: 0.5550\n",
            "Epoch 65/100\n",
            "25/25 [==============================] - 32s 1s/step - loss: 1.2612 - acc: 0.5412 - val_loss: 1.4565 - val_acc: 0.5050\n",
            "Epoch 66/100\n",
            "25/25 [==============================] - 32s 1s/step - loss: 1.1980 - acc: 0.5337 - val_loss: 1.8285 - val_acc: 0.4050\n",
            "Epoch 67/100\n",
            "25/25 [==============================] - 32s 1s/step - loss: 1.3744 - acc: 0.4988 - val_loss: 1.2255 - val_acc: 0.5650\n",
            "Epoch 68/100\n",
            "25/25 [==============================] - 32s 1s/step - loss: 1.1092 - acc: 0.5825 - val_loss: 1.5186 - val_acc: 0.4550\n",
            "Epoch 69/100\n",
            "25/25 [==============================] - 32s 1s/step - loss: 1.3358 - acc: 0.4800 - val_loss: 1.3681 - val_acc: 0.4950\n",
            "Epoch 70/100\n",
            "25/25 [==============================] - 32s 1s/step - loss: 1.1627 - acc: 0.5625 - val_loss: 1.4344 - val_acc: 0.5250\n",
            "Epoch 71/100\n",
            "25/25 [==============================] - 33s 1s/step - loss: 1.1270 - acc: 0.5663 - val_loss: 1.2834 - val_acc: 0.5400\n",
            "Epoch 72/100\n",
            "25/25 [==============================] - 32s 1s/step - loss: 1.0235 - acc: 0.6200 - val_loss: 1.2725 - val_acc: 0.5550\n",
            "Epoch 73/100\n",
            "25/25 [==============================] - 33s 1s/step - loss: 1.1646 - acc: 0.5587 - val_loss: 1.2049 - val_acc: 0.5700\n",
            "Epoch 74/100\n",
            "25/25 [==============================] - 32s 1s/step - loss: 0.8774 - acc: 0.6862 - val_loss: 1.9546 - val_acc: 0.4650\n",
            "Epoch 75/100\n",
            "25/25 [==============================] - 32s 1s/step - loss: 1.0287 - acc: 0.6237 - val_loss: 1.2281 - val_acc: 0.5550\n",
            "Epoch 76/100\n",
            "25/25 [==============================] - 32s 1s/step - loss: 1.0488 - acc: 0.5913 - val_loss: 1.3505 - val_acc: 0.5200\n",
            "Epoch 77/100\n",
            "25/25 [==============================] - 33s 1s/step - loss: 1.0985 - acc: 0.6062 - val_loss: 1.1169 - val_acc: 0.5850\n",
            "Epoch 78/100\n",
            "25/25 [==============================] - 32s 1s/step - loss: 0.9959 - acc: 0.6600 - val_loss: 1.2231 - val_acc: 0.5750\n",
            "Epoch 79/100\n",
            "25/25 [==============================] - 32s 1s/step - loss: 0.9647 - acc: 0.6237 - val_loss: 1.4523 - val_acc: 0.5100\n",
            "Epoch 80/100\n",
            "25/25 [==============================] - 33s 1s/step - loss: 0.9928 - acc: 0.6513 - val_loss: 1.2132 - val_acc: 0.5900\n",
            "Epoch 81/100\n",
            "25/25 [==============================] - 33s 1s/step - loss: 0.9112 - acc: 0.6562 - val_loss: 1.6380 - val_acc: 0.4600\n",
            "Epoch 82/100\n",
            "25/25 [==============================] - 32s 1s/step - loss: 1.3958 - acc: 0.5200 - val_loss: 1.2816 - val_acc: 0.5400\n",
            "Epoch 83/100\n",
            "25/25 [==============================] - 33s 1s/step - loss: 0.9077 - acc: 0.6737 - val_loss: 1.2366 - val_acc: 0.6250\n",
            "Epoch 84/100\n",
            "25/25 [==============================] - 32s 1s/step - loss: 0.8932 - acc: 0.6463 - val_loss: 1.1940 - val_acc: 0.5750\n",
            "Epoch 85/100\n",
            "25/25 [==============================] - 33s 1s/step - loss: 0.8059 - acc: 0.6850 - val_loss: 1.0978 - val_acc: 0.5850\n",
            "Epoch 86/100\n",
            "25/25 [==============================] - 32s 1s/step - loss: 0.8670 - acc: 0.6900 - val_loss: 1.3854 - val_acc: 0.5350\n",
            "Epoch 87/100\n",
            "25/25 [==============================] - 32s 1s/step - loss: 0.8201 - acc: 0.6888 - val_loss: 1.3438 - val_acc: 0.5900\n",
            "Epoch 88/100\n",
            "25/25 [==============================] - 32s 1s/step - loss: 0.7601 - acc: 0.7113 - val_loss: 1.6111 - val_acc: 0.5450\n",
            "Epoch 89/100\n",
            "25/25 [==============================] - 32s 1s/step - loss: 0.8800 - acc: 0.6737 - val_loss: 1.2060 - val_acc: 0.5900\n",
            "Epoch 90/100\n",
            "25/25 [==============================] - 32s 1s/step - loss: 1.0950 - acc: 0.5875 - val_loss: 1.2082 - val_acc: 0.5800\n",
            "Epoch 91/100\n",
            "25/25 [==============================] - 33s 1s/step - loss: 0.7951 - acc: 0.7250 - val_loss: 1.2057 - val_acc: 0.6050\n",
            "Epoch 92/100\n",
            "25/25 [==============================] - 33s 1s/step - loss: 1.0535 - acc: 0.6488 - val_loss: 1.3466 - val_acc: 0.5000\n",
            "Epoch 93/100\n",
            "25/25 [==============================] - 32s 1s/step - loss: 0.6744 - acc: 0.7362 - val_loss: 1.3618 - val_acc: 0.5800\n",
            "Epoch 94/100\n",
            "25/25 [==============================] - 32s 1s/step - loss: 0.7427 - acc: 0.7200 - val_loss: 1.3603 - val_acc: 0.5600\n",
            "Epoch 95/100\n",
            "25/25 [==============================] - 32s 1s/step - loss: 0.6965 - acc: 0.7150 - val_loss: 1.1428 - val_acc: 0.5550\n",
            "Epoch 96/100\n",
            "25/25 [==============================] - 33s 1s/step - loss: 0.7229 - acc: 0.7287 - val_loss: 1.2144 - val_acc: 0.6400\n",
            "Epoch 97/100\n",
            "25/25 [==============================] - 33s 1s/step - loss: 0.6248 - acc: 0.7800 - val_loss: 1.5894 - val_acc: 0.5650\n",
            "Epoch 98/100\n",
            "25/25 [==============================] - 33s 1s/step - loss: 0.7058 - acc: 0.7250 - val_loss: 1.3419 - val_acc: 0.5900\n",
            "Epoch 99/100\n",
            "25/25 [==============================] - 32s 1s/step - loss: 0.6855 - acc: 0.7600 - val_loss: 1.8997 - val_acc: 0.5150\n",
            "Epoch 100/100\n",
            "25/25 [==============================] - 32s 1s/step - loss: 0.5843 - acc: 0.7725 - val_loss: 1.4519 - val_acc: 0.5700\n"
          ],
          "name": "stdout"
        }
      ]
    },
    {
      "cell_type": "code",
      "metadata": {
        "id": "9B2QB1XJmg2E",
        "colab": {
          "base_uri": "https://localhost:8080/",
          "height": 52
        },
        "outputId": "20296e96-f5f4-4972-9695-d30bad52d03e"
      },
      "source": [
        " model.evaluate(test_set)"
      ],
      "execution_count": null,
      "outputs": [
        {
          "output_type": "stream",
          "text": [
            "7/7 [==============================] - 1s 200ms/step - loss: 1.4519 - acc: 0.5700\n"
          ],
          "name": "stdout"
        },
        {
          "output_type": "execute_result",
          "data": {
            "text/plain": [
              "[1.451855182647705, 0.5699999928474426]"
            ]
          },
          "metadata": {
            "tags": []
          },
          "execution_count": 13
        }
      ]
    },
    {
      "cell_type": "code",
      "metadata": {
        "id": "Z_6VkNtLqnrM",
        "colab": {
          "base_uri": "https://localhost:8080/",
          "height": 443
        },
        "outputId": "1851f859-8e67-44af-e543-20b34ef5ef70"
      },
      "source": [
        "base_model.trainable = True\n",
        "model.summary()"
      ],
      "execution_count": null,
      "outputs": [
        {
          "output_type": "stream",
          "text": [
            "Model: \"functional_1\"\n",
            "_________________________________________________________________\n",
            "Layer (type)                 Output Shape              Param #   \n",
            "=================================================================\n",
            "input_3 (InputLayer)         [(None, 300, 300, 3)]     0         \n",
            "_________________________________________________________________\n",
            "xception (Functional)        (None, 10, 10, 2048)      20861480  \n",
            "_________________________________________________________________\n",
            "global_average_pooling2d (Gl (None, 2048)              0         \n",
            "_________________________________________________________________\n",
            "dropout (Dropout)            (None, 2048)              0         \n",
            "_________________________________________________________________\n",
            "dense (Dense)                (None, 512)               1049088   \n",
            "_________________________________________________________________\n",
            "dropout_1 (Dropout)          (None, 512)               0         \n",
            "_________________________________________________________________\n",
            "dense_1 (Dense)              (None, 64)                32832     \n",
            "_________________________________________________________________\n",
            "dense_2 (Dense)              (None, 11)                715       \n",
            "=================================================================\n",
            "Total params: 21,944,115\n",
            "Trainable params: 21,889,587\n",
            "Non-trainable params: 54,528\n",
            "_________________________________________________________________\n"
          ],
          "name": "stdout"
        }
      ]
    },
    {
      "cell_type": "code",
      "metadata": {
        "id": "DoH-JUDlqoUI",
        "colab": {
          "base_uri": "https://localhost:8080/",
          "height": 730
        },
        "outputId": "14583a0d-c265-4e52-bec0-91a3c8394ab5"
      },
      "source": [
        "optimizer = tf.keras.optimizers.Adam(1e-5)\n",
        "model.compile(loss='categorical_crossentropy',optimizer=optimizer,metrics=['acc'])\n",
        "final =  model.fit(training_set, validation_data=test_set,epochs=100)"
      ],
      "execution_count": null,
      "outputs": [
        {
          "output_type": "stream",
          "text": [
            "Epoch 1/100\n",
            " 2/25 [=>............................] - ETA: 24s - loss: 0.8650 - acc: 0.6875WARNING:tensorflow:Callbacks method `on_train_batch_end` is slow compared to the batch time (batch time: 0.2961s vs `on_train_batch_end` time: 0.9117s). Check your callbacks.\n",
            "25/25 [==============================] - 34s 1s/step - loss: 0.4570 - acc: 0.8438 - val_loss: 1.3438 - val_acc: 0.6550\n",
            "Epoch 2/100\n",
            "25/25 [==============================] - 33s 1s/step - loss: 0.2991 - acc: 0.9038 - val_loss: 1.2998 - val_acc: 0.6300\n",
            "Epoch 3/100\n",
            "25/25 [==============================] - 32s 1s/step - loss: 0.2597 - acc: 0.9137 - val_loss: 1.4204 - val_acc: 0.6450\n",
            "Epoch 4/100\n",
            "25/25 [==============================] - 33s 1s/step - loss: 0.2486 - acc: 0.9087 - val_loss: 1.5195 - val_acc: 0.6300\n",
            "Epoch 5/100\n",
            "25/25 [==============================] - 33s 1s/step - loss: 0.2215 - acc: 0.9312 - val_loss: 1.5224 - val_acc: 0.6400\n",
            "Epoch 6/100\n",
            "25/25 [==============================] - 33s 1s/step - loss: 0.2004 - acc: 0.9275 - val_loss: 1.5647 - val_acc: 0.6350\n",
            "Epoch 7/100\n",
            "25/25 [==============================] - 33s 1s/step - loss: 0.1738 - acc: 0.9388 - val_loss: 1.6063 - val_acc: 0.6750\n",
            "Epoch 8/100\n",
            "25/25 [==============================] - 33s 1s/step - loss: 0.1646 - acc: 0.9463 - val_loss: 1.7186 - val_acc: 0.6500\n",
            "Epoch 9/100\n",
            "25/25 [==============================] - 33s 1s/step - loss: 0.1561 - acc: 0.9463 - val_loss: 1.7704 - val_acc: 0.6600\n",
            "Epoch 10/100\n",
            "25/25 [==============================] - 33s 1s/step - loss: 0.1348 - acc: 0.9638 - val_loss: 1.7542 - val_acc: 0.6650\n",
            "Epoch 11/100\n",
            "25/25 [==============================] - 33s 1s/step - loss: 0.1257 - acc: 0.9563 - val_loss: 1.8005 - val_acc: 0.6350\n",
            "Epoch 12/100\n",
            "25/25 [==============================] - 33s 1s/step - loss: 0.1077 - acc: 0.9675 - val_loss: 1.8324 - val_acc: 0.6550\n",
            "Epoch 13/100\n",
            "25/25 [==============================] - 33s 1s/step - loss: 0.1113 - acc: 0.9600 - val_loss: 1.8591 - val_acc: 0.6550\n",
            "Epoch 14/100\n",
            "25/25 [==============================] - 34s 1s/step - loss: 0.1102 - acc: 0.9650 - val_loss: 1.9747 - val_acc: 0.6700\n",
            "Epoch 15/100\n",
            "25/25 [==============================] - 34s 1s/step - loss: 0.0833 - acc: 0.9787 - val_loss: 1.9503 - val_acc: 0.6600\n",
            "Epoch 16/100\n",
            "25/25 [==============================] - 33s 1s/step - loss: 0.0749 - acc: 0.9812 - val_loss: 2.0401 - val_acc: 0.6600\n",
            "Epoch 17/100\n",
            "25/25 [==============================] - 34s 1s/step - loss: 0.0817 - acc: 0.9750 - val_loss: 2.1459 - val_acc: 0.6400\n",
            "Epoch 18/100\n",
            "25/25 [==============================] - 35s 1s/step - loss: 0.0834 - acc: 0.9737 - val_loss: 2.0659 - val_acc: 0.6400\n",
            "Epoch 19/100\n",
            "18/25 [====================>.........] - ETA: 9s - loss: 0.0768 - acc: 0.9757 "
          ],
          "name": "stdout"
        }
      ]
    },
    {
      "cell_type": "code",
      "metadata": {
        "id": "6STm-T8hnJSO"
      },
      "source": [
        "test_set.reset()\n",
        "pred = model.predict_generator(test_set, steps = 20, verbose = 5)"
      ],
      "execution_count": null,
      "outputs": []
    },
    {
      "cell_type": "code",
      "metadata": {
        "id": "do60d_sPnK5M"
      },
      "source": [
        " model.evaluate(test_set)"
      ],
      "execution_count": null,
      "outputs": []
    },
    {
      "cell_type": "markdown",
      "metadata": {
        "id": "wF9j0QBGU-l-"
      },
      "source": [
        "### Ploting Accuracy"
      ]
    },
    {
      "cell_type": "code",
      "metadata": {
        "id": "npvIEh2oqq9p"
      },
      "source": [
        "plt.plot(range(0,100), warmup.history['acc'], label='Warmup Accuracy (training data)')\n",
        "plt.plot(range(0,100), warmup.history['val_acc'], label='Warmup Accuracy (validation data)')\n",
        "\n",
        "plt.plot(range(0,100), final.history['acc'], label='Final Accuracy (training data)')\n",
        "plt.plot(range(0,100), final.history['val_acc'], label='Final Accuracy (validation data)')\n",
        "\n",
        "plt.ylabel('Accuracy')\n",
        "plt.xlabel('No. epoch')\n",
        "#plt.legend(loc=\"upper left\")\n",
        "plt.show()"
      ],
      "execution_count": null,
      "outputs": []
    },
    {
      "cell_type": "markdown",
      "metadata": {
        "id": "WI7-NczgV18N"
      },
      "source": [
        "## Saving Output Data into CSV file. "
      ]
    },
    {
      "cell_type": "markdown",
      "metadata": {
        "id": "E1OzHZ0i0veh"
      },
      "source": [
        "# New Section"
      ]
    },
    {
      "cell_type": "code",
      "metadata": {
        "id": "NOXpaFRxo39I"
      },
      "source": [
        "# nRowsRead = 1000\n",
        "# Spec_data=pd.read_csv(\"/content/Spec_data.csv\",delimiter=',', nrows = nRowsRead)\n",
        "# # Spec_data.describe()\n",
        "# nRow, nCol = Spec_data.shape\n",
        "# print(f'There are {nRow} rows and {nCol} columns')\n",
        "\n",
        "# Spec_data.hist()\n",
        "# scatter_matrix(Spec_data, alpha=0.2, figsize=(20, 20), diagonal='kde')"
      ],
      "execution_count": null,
      "outputs": []
    },
    {
      "cell_type": "code",
      "metadata": {
        "id": "ImeQXLcbysEi"
      },
      "source": [
        "# predicted_class_indices = np.argmax(pred,axis=1)\n",
        "\n",
        "# labels = (training_set.class_indices)\n",
        "# labels = dict((v,k) for k,v in labels.items())\n",
        "# predictions = [labels[k] for k in predicted_class_indices]\n",
        "# predictions = predictions[:200]\n",
        "# filenames=test_set.filenames"
      ],
      "execution_count": null,
      "outputs": []
    },
    {
      "cell_type": "code",
      "metadata": {
        "id": "Jm7Tqp9mKeTA"
      },
      "source": [
        "#  print(len(test_set), len(predictions))"
      ],
      "execution_count": null,
      "outputs": []
    },
    {
      "cell_type": "code",
      "metadata": {
        "id": "b_Fe183ry0lf"
      },
      "source": [
        "# results = pd.DataFrame({'Filename':filenames,'Predictions':predictions})\n",
        "# results.to_csv('prediction_results.csv',index = False)"
      ],
      "execution_count": null,
      "outputs": []
    }
  ]
}